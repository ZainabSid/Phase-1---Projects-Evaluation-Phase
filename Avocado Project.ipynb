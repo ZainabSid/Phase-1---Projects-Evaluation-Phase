{
 "cells": [
  {
   "cell_type": "code",
   "execution_count": 1,
   "id": "7e775ed9",
   "metadata": {},
   "outputs": [
    {
     "name": "stdout",
     "output_type": "stream",
     "text": [
      "Unnamed: 0      14951\n",
      "Date            14951\n",
      "AveragePrice    14951\n",
      "Total Volume    14951\n",
      "4046            14951\n",
      "4225            14951\n",
      "4770            14951\n",
      "Total Bags      14951\n",
      "Small Bags      14951\n",
      "Large Bags      14951\n",
      "XLarge Bags     14951\n",
      "type            14951\n",
      "year            14951\n",
      "region          14951\n",
      "dtype: int64\n",
      "Random Forest Classification Accuracy: 0.9210526315789473\n",
      "Random Forest Regression Mean Absolute Error: 29403.45994276316\n",
      "Linear Regression Score for AveragePrice: 1.0\n",
      "Logistic Regression Classification Accuracy for Region: 0.6578947368421053\n"
     ]
    }
   ],
   "source": [
    "import pandas as pd\n",
    "from sklearn.model_selection import train_test_split\n",
    "from sklearn.linear_model import LinearRegression, LogisticRegression\n",
    "from sklearn.ensemble import RandomForestClassifier, RandomForestRegressor\n",
    "from sklearn.preprocessing import LabelEncoder\n",
    "from sklearn.metrics import accuracy_score, mean_absolute_error\n",
    "\n",
    "# Load the dataset from the URL\n",
    "url = \"https://github.com/dsrscientist/Data-Science-ML-Capstone-Projects/raw/master/avocado.csv\"\n",
    "avocado_data = pd.read_csv(url)\n",
    "\n",
    "# Check for missing values\n",
    "print(avocado_data.isnull().sum())\n",
    "\n",
    "# Drop rows with missing values\n",
    "avocado_data.dropna(inplace=True)\n",
    "\n",
    "# Preprocess the 'Date' column\n",
    "avocado_data['Date'] = pd.to_datetime(avocado_data['Date'], format='%d-%m-%Y')  # Update date format\n",
    "\n",
    "# Encode categorical variable 'type'\n",
    "label_encoder = LabelEncoder()\n",
    "avocado_data['type'] = label_encoder.fit_transform(avocado_data['type'])\n",
    "\n",
    "# Split data for classification task\n",
    "X_class = avocado_data[['AveragePrice', 'Total Volume', '4046', '4225', '4770', 'type', 'year']]\n",
    "y_class = avocado_data['region']\n",
    "X_class_train, X_class_test, y_class_train, y_class_test = train_test_split(X_class, y_class, test_size=0.2, random_state=42)\n",
    "\n",
    "# Split data for regression task\n",
    "X_reg = avocado_data[['AveragePrice', 'Total Volume', '4046', '4225', '4770', 'type', 'year']]\n",
    "y_reg = avocado_data['Total Bags']\n",
    "X_reg_train, X_reg_test, y_reg_train, y_reg_test = train_test_split(X_reg, y_reg, test_size=0.2, random_state=42)\n",
    "\n",
    "# Classification Task\n",
    "classifier = RandomForestClassifier(random_state=42)\n",
    "classifier.fit(X_class_train, y_class_train)\n",
    "y_class_pred = classifier.predict(X_class_test)\n",
    "classification_accuracy = accuracy_score(y_class_test, y_class_pred)\n",
    "print(\"Random Forest Classification Accuracy:\", classification_accuracy)\n",
    "\n",
    "# Regression Task\n",
    "regressor = RandomForestRegressor(random_state=42)\n",
    "regressor.fit(X_reg_train, y_reg_train)\n",
    "y_reg_pred = regressor.predict(X_reg_test)\n",
    "regression_mae = mean_absolute_error(y_reg_test, y_reg_pred)\n",
    "print(\"Random Forest Regression Mean Absolute Error:\", regression_mae)\n",
    "\n",
    "# Linear Regression for AveragePrice\n",
    "linear_regression = LinearRegression()\n",
    "linear_regression.fit(X_reg_train, y_reg_train)\n",
    "regression_score = linear_regression.score(X_reg_test, y_reg_test)\n",
    "print(\"Linear Regression Score for AveragePrice:\", regression_score)\n",
    "\n",
    "# Logistic Regression for Region\n",
    "logistic_regression = LogisticRegression(solver='liblinear', max_iter=1000)\n",
    "logistic_regression.fit(X_class_train, y_class_train)\n",
    "y_class_pred = logistic_regression.predict(X_class_test)\n",
    "classification_accuracy = accuracy_score(y_class_test, y_class_pred)\n",
    "print(\"Logistic Regression Classification Accuracy for Region:\", classification_accuracy)"
   ]
  },
  {
   "cell_type": "code",
   "execution_count": null,
   "id": "64ec2dae",
   "metadata": {},
   "outputs": [],
   "source": []
  }
 ],
 "metadata": {
  "kernelspec": {
   "display_name": "Python 3 (ipykernel)",
   "language": "python",
   "name": "python3"
  },
  "language_info": {
   "codemirror_mode": {
    "name": "ipython",
    "version": 3
   },
   "file_extension": ".py",
   "mimetype": "text/x-python",
   "name": "python",
   "nbconvert_exporter": "python",
   "pygments_lexer": "ipython3",
   "version": "3.11.4"
  }
 },
 "nbformat": 4,
 "nbformat_minor": 5
}
