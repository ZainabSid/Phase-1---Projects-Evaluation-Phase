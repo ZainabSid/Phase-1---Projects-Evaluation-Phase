{
 "cells": [
  {
   "cell_type": "code",
   "execution_count": 1,
   "id": "4a18ba8b",
   "metadata": {},
   "outputs": [
    {
     "name": "stdout",
     "output_type": "stream",
     "text": [
      "Requirement already satisfied: pandas in c:\\users\\zaina\\anaconda3\\lib\\site-packages (1.5.3)\n",
      "Requirement already satisfied: scikit-learn in c:\\users\\zaina\\anaconda3\\lib\\site-packages (1.3.0)\n",
      "Requirement already satisfied: python-dateutil>=2.8.1 in c:\\users\\zaina\\anaconda3\\lib\\site-packages (from pandas) (2.8.2)\n",
      "Requirement already satisfied: pytz>=2020.1 in c:\\users\\zaina\\anaconda3\\lib\\site-packages (from pandas) (2022.7)\n",
      "Requirement already satisfied: numpy>=1.21.0 in c:\\users\\zaina\\anaconda3\\lib\\site-packages (from pandas) (1.24.3)\n",
      "Requirement already satisfied: scipy>=1.5.0 in c:\\users\\zaina\\anaconda3\\lib\\site-packages (from scikit-learn) (1.10.1)\n",
      "Requirement already satisfied: joblib>=1.1.1 in c:\\users\\zaina\\anaconda3\\lib\\site-packages (from scikit-learn) (1.2.0)\n",
      "Requirement already satisfied: threadpoolctl>=2.0.0 in c:\\users\\zaina\\anaconda3\\lib\\site-packages (from scikit-learn) (2.2.0)\n",
      "Requirement already satisfied: six>=1.5 in c:\\users\\zaina\\anaconda3\\lib\\site-packages (from python-dateutil>=2.8.1->pandas) (1.16.0)\n",
      "Note: you may need to restart the kernel to use updated packages.\n"
     ]
    }
   ],
   "source": [
    "pip install pandas scikit-learn"
   ]
  },
  {
   "cell_type": "code",
   "execution_count": 2,
   "id": "39072452",
   "metadata": {},
   "outputs": [
    {
     "name": "stdout",
     "output_type": "stream",
     "text": [
      "Dataset preview:\n",
      "    W    R    AB     H   2B  3B   HR   BB    SO   SB   RA   ER   ERA  CG  SHO  \\\n",
      "0  95  724  5575  1497  300  42  139  383   973  104  641  601  3.73   2    8   \n",
      "1  83  696  5467  1349  277  44  156  439  1264   70  700  653  4.07   2   12   \n",
      "2  81  669  5439  1395  303  29  141  533  1157   86  640  584  3.67  11   10   \n",
      "3  76  622  5533  1381  260  27  136  404  1231   68  701  643  3.98   7    9   \n",
      "4  74  689  5605  1515  289  49  151  455  1259   83  803  746  4.64   7   12   \n",
      "\n",
      "   SV    E  \n",
      "0  56   88  \n",
      "1  45   86  \n",
      "2  38   79  \n",
      "3  37  101  \n",
      "4  35   86  \n",
      "\n",
      "Model Evaluation:\n",
      "Mean Absolute Error (MAE): 3.8768471222721033\n",
      "Mean Squared Error (MSE): 28.1250072805436\n",
      "Root Mean Squared Error (RMSE): 5.303301545315295\n",
      "R-squared (R2): 0.7862570694322208\n",
      "\n",
      "Predicted Wins for the New Input:\n",
      "115.22047610449962\n"
     ]
    }
   ],
   "source": [
    "import pandas as pd\n",
    "from sklearn.model_selection import train_test_split\n",
    "from sklearn.linear_model import LinearRegression\n",
    "from sklearn.metrics import mean_absolute_error, mean_squared_error, r2_score\n",
    "\n",
    "# Firstly, Loading the dataset directly from the file\n",
    "url = \"https://raw.githubusercontent.com/dsrscientist/Data-Science-ML-Capstone-Projects/master/baseball.csv\"\n",
    "df = pd.read_csv(url)\n",
    "\n",
    "# Will display the first few rows of the datasets\n",
    "print(\"Dataset preview:\")\n",
    "print(df.head())\n",
    "\n",
    "# Selecting the relevant features (as an input) and target variable (as an output)\n",
    "features = df.iloc[:, 1:-1]  # Excluding the first column (Team) and the last column (Wins)\n",
    "target = df[\"W\"]\n",
    "\n",
    "# Split the data into training and testing sets (80% train, 20% test)\n",
    "X_train, X_test, y_train, y_test = train_test_split(features, target, test_size=0.2, random_state=42)\n",
    "\n",
    "# Initialize the Linear Regression model\n",
    "model = LinearRegression()\n",
    "\n",
    "# Train the model\n",
    "model.fit(X_train, y_train)\n",
    "\n",
    "# Make predictions on the test set\n",
    "y_pred = model.predict(X_test)\n",
    "\n",
    "# Evaluate the model\n",
    "mae = mean_absolute_error(y_test, y_pred)\n",
    "mse = mean_squared_error(y_test, y_pred)\n",
    "rmse = mean_squared_error(y_test, y_pred, squared=False)\n",
    "r2 = r2_score(y_test, y_pred)\n",
    "\n",
    "# Display the evaluation metrics\n",
    "print(\"\\nModel Evaluation:\")\n",
    "print(f\"Mean Absolute Error (MAE): {mae}\")\n",
    "print(f\"Mean Squared Error (MSE): {mse}\")\n",
    "print(f\"Root Mean Squared Error (RMSE): {rmse}\")\n",
    "print(f\"R-squared (R2): {r2}\")\n",
    "\n",
    "# Example: Predict the number of wins for a new set of input features\n",
    "new_input = pd.DataFrame({\n",
    "    \"R\": [800],\n",
    "    \"AB\": [5500],\n",
    "    \"H\": [1500],\n",
    "    \"2B\": [300],\n",
    "    \"3B\": [20],\n",
    "    \"HR\": [200],\n",
    "    \"BB\": [600],\n",
    "    \"SO\": [1200],\n",
    "    \"SB\": [100],\n",
    "    \"RA\": [700],\n",
    "    \"ER\": [650],\n",
    "    \"ERA\": [3.5],\n",
    "    \"CG\": [5],\n",
    "    \"SHO\": [3],\n",
    "    \"SV\": [40],\n",
    "    \"E\": [70]\n",
    "})\n",
    "\n",
    "# Ensure that the column order of new_input matches that of the training data\n",
    "new_input = new_input[X_train.columns]\n",
    "\n",
    "predicted_wins = model.predict(new_input)\n",
    "print(\"\\nPredicted Wins for the New Input:\")\n",
    "print(predicted_wins[0])"
   ]
  },
  {
   "cell_type": "code",
   "execution_count": null,
   "id": "41255470",
   "metadata": {},
   "outputs": [],
   "source": []
  }
 ],
 "metadata": {
  "kernelspec": {
   "display_name": "Python 3 (ipykernel)",
   "language": "python",
   "name": "python3"
  },
  "language_info": {
   "codemirror_mode": {
    "name": "ipython",
    "version": 3
   },
   "file_extension": ".py",
   "mimetype": "text/x-python",
   "name": "python",
   "nbconvert_exporter": "python",
   "pygments_lexer": "ipython3",
   "version": "3.11.4"
  }
 },
 "nbformat": 4,
 "nbformat_minor": 5
}
